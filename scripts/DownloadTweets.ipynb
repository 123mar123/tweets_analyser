{
  "nbformat": 4,
  "nbformat_minor": 0,
  "metadata": {
    "colab": {
      "name": "DownloadTweets.ipynb",
      "provenance": [],
      "collapsed_sections": []
    },
    "kernelspec": {
      "name": "python3",
      "display_name": "Python 3"
    }
  },
  "cells": [
    {
      "cell_type": "code",
      "metadata": {
        "id": "xWImK2D9Zwvr",
        "colab_type": "code",
        "colab": {}
      },
      "source": [
        "#Libraries\n",
        "import pandas as pd\n",
        "import os"
      ],
      "execution_count": 0,
      "outputs": []
    },
    {
      "cell_type": "code",
      "metadata": {
        "id": "Ss8TdzszZN42",
        "colab_type": "code",
        "colab": {}
      },
      "source": [
        "%%capture\n",
        "if not os.path.isfile('tweets.csv'):\n",
        "    !wget 'https://drive.google.com/uc?export=download&id=17F1luxwaaE4vrhlFsHbOFjSoYhsThuAJ' -O tweets.csv"
      ],
      "execution_count": 0,
      "outputs": []
    },
    {
      "cell_type": "code",
      "metadata": {
        "id": "EvPbySpkaIsB",
        "colab_type": "code",
        "outputId": "ac738750-9576-48ec-f877-27a7121c9053",
        "colab": {
          "base_uri": "https://localhost:8080/",
          "height": 221
        }
      },
      "source": [
        "#Create data frame\n",
        "tweets_raw = pd.read_csv('tweets.csv')\n",
        "print(tweets_raw.shape)\n",
        "tweets_raw.head()"
      ],
      "execution_count": 0,
      "outputs": [
        {
          "output_type": "stream",
          "text": [
            "(52542, 10)\n"
          ],
          "name": "stdout"
        },
        {
          "output_type": "execute_result",
          "data": {
            "text/html": [
              "<div>\n",
              "<style scoped>\n",
              "    .dataframe tbody tr th:only-of-type {\n",
              "        vertical-align: middle;\n",
              "    }\n",
              "\n",
              "    .dataframe tbody tr th {\n",
              "        vertical-align: top;\n",
              "    }\n",
              "\n",
              "    .dataframe thead th {\n",
              "        text-align: right;\n",
              "    }\n",
              "</style>\n",
              "<table border=\"1\" class=\"dataframe\">\n",
              "  <thead>\n",
              "    <tr style=\"text-align: right;\">\n",
              "      <th></th>\n",
              "      <th>author</th>\n",
              "      <th>content</th>\n",
              "      <th>country</th>\n",
              "      <th>date_time</th>\n",
              "      <th>id</th>\n",
              "      <th>language</th>\n",
              "      <th>latitude</th>\n",
              "      <th>longitude</th>\n",
              "      <th>number_of_likes</th>\n",
              "      <th>number_of_shares</th>\n",
              "    </tr>\n",
              "  </thead>\n",
              "  <tbody>\n",
              "    <tr>\n",
              "      <th>0</th>\n",
              "      <td>katyperry</td>\n",
              "      <td>Is history repeating itself...?#DONTNORMALIZEH...</td>\n",
              "      <td>NaN</td>\n",
              "      <td>12/01/2017 19:52</td>\n",
              "      <td>8.196330e+17</td>\n",
              "      <td>en</td>\n",
              "      <td>NaN</td>\n",
              "      <td>NaN</td>\n",
              "      <td>7900</td>\n",
              "      <td>3472</td>\n",
              "    </tr>\n",
              "    <tr>\n",
              "      <th>1</th>\n",
              "      <td>katyperry</td>\n",
              "      <td>@barackobama Thank you for your incredible gra...</td>\n",
              "      <td>NaN</td>\n",
              "      <td>11/01/2017 08:38</td>\n",
              "      <td>8.191010e+17</td>\n",
              "      <td>en</td>\n",
              "      <td>NaN</td>\n",
              "      <td>NaN</td>\n",
              "      <td>3689</td>\n",
              "      <td>1380</td>\n",
              "    </tr>\n",
              "    <tr>\n",
              "      <th>2</th>\n",
              "      <td>katyperry</td>\n",
              "      <td>Life goals. https://t.co/XIn1qKMKQl</td>\n",
              "      <td>NaN</td>\n",
              "      <td>11/01/2017 02:52</td>\n",
              "      <td>8.190140e+17</td>\n",
              "      <td>en</td>\n",
              "      <td>NaN</td>\n",
              "      <td>NaN</td>\n",
              "      <td>10341</td>\n",
              "      <td>2387</td>\n",
              "    </tr>\n",
              "    <tr>\n",
              "      <th>3</th>\n",
              "      <td>katyperry</td>\n",
              "      <td>Me right now 🙏🏻 https://t.co/gW55C1wrwd</td>\n",
              "      <td>NaN</td>\n",
              "      <td>11/01/2017 02:44</td>\n",
              "      <td>8.190120e+17</td>\n",
              "      <td>en</td>\n",
              "      <td>NaN</td>\n",
              "      <td>NaN</td>\n",
              "      <td>10774</td>\n",
              "      <td>2458</td>\n",
              "    </tr>\n",
              "    <tr>\n",
              "      <th>4</th>\n",
              "      <td>katyperry</td>\n",
              "      <td>SISTERS ARE DOIN' IT FOR THEMSELVES! 🙌🏻💪🏻❤️ ht...</td>\n",
              "      <td>NaN</td>\n",
              "      <td>10/01/2017 05:22</td>\n",
              "      <td>8.186890e+17</td>\n",
              "      <td>en</td>\n",
              "      <td>NaN</td>\n",
              "      <td>NaN</td>\n",
              "      <td>17620</td>\n",
              "      <td>4655</td>\n",
              "    </tr>\n",
              "  </tbody>\n",
              "</table>\n",
              "</div>"
            ],
            "text/plain": [
              "      author  ... number_of_shares\n",
              "0  katyperry  ...             3472\n",
              "1  katyperry  ...             1380\n",
              "2  katyperry  ...             2387\n",
              "3  katyperry  ...             2458\n",
              "4  katyperry  ...             4655\n",
              "\n",
              "[5 rows x 10 columns]"
            ]
          },
          "metadata": {
            "tags": []
          },
          "execution_count": 3
        }
      ]
    },
    {
      "cell_type": "code",
      "metadata": {
        "id": "AMks4mugcyIP",
        "colab_type": "code",
        "outputId": "1aef11dd-6782-43f8-f4ed-b0002cd73487",
        "colab": {
          "base_uri": "https://localhost:8080/",
          "height": 374
        }
      },
      "source": [
        "#Tweets per person \n",
        "tweets_raw['author'].value_counts()"
      ],
      "execution_count": 0,
      "outputs": [
        {
          "output_type": "execute_result",
          "data": {
            "text/plain": [
              "TheEllenShow     3147\n",
              "jimmyfallon      3123\n",
              "ArianaGrande     3104\n",
              "YouTube          3077\n",
              "KimKardashian    2939\n",
              "katyperry        2924\n",
              "selenagomez      2913\n",
              "rihanna          2877\n",
              "BarackObama      2863\n",
              "britneyspears    2776\n",
              "instagram        2577\n",
              "shakira          2530\n",
              "Cristiano        2507\n",
              "jtimberlake      2478\n",
              "ladygaga         2329\n",
              "Twitter          2290\n",
              "ddlovato         2217\n",
              "taylorswift13    2029\n",
              "justinbieber     2000\n",
              "cnnbrk           1842\n",
              "Name: author, dtype: int64"
            ]
          },
          "metadata": {
            "tags": []
          },
          "execution_count": 4
        }
      ]
    }
  ]
}